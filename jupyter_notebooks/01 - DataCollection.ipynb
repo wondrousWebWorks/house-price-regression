{
  "cells": [
    {
      "cell_type": "markdown",
      "metadata": {
        "id": "0aStgWSO0E0E"
      },
      "source": [
        "# Data Collection"
      ]
    },
    {
      "cell_type": "markdown",
      "metadata": {
        "id": "1eLEkw5O0ECa"
      },
      "source": [
        "## Objectives\n",
        "\n",
        "*   Fetch data from Kaggle competition and save as raw data\n",
        "*   Get a data summary\n",
        "*   Inspect the shape of the data\n",
        "*   Output the data and save in outputs/datasets/collection\n",
        "\n",
        "\n",
        "## Inputs\n",
        "\n",
        "* JSON file from Kaggle & Authentication Token\n",
        "\n",
        "## Outputs\n",
        "\n",
        "* Generated Dataset saved as outputs/datasets/collection/HousePriceRegression.csv\n",
        "\n",
        "## Additional Comments\n",
        "\n",
        "\n",
        "* This data set does not contain any pricate or sensitive information. As such, the data set is committed to a repository which would usually not be the case when data needs to be protected.\n",
        "\n"
      ]
    },
    {
      "cell_type": "markdown",
      "metadata": {
        "id": "9uWZXH9LwoQg"
      },
      "source": [
        "---"
      ]
    },
    {
      "cell_type": "markdown",
      "metadata": {
        "id": "vbuGQj9lDAEo"
      },
      "source": [
        "# Change Working Directory\n",
        "\n",
        "In order to install Kaggle and fetch the data from Kaggle, the current working directory needs to be changed to the root level of the workspace."
      ]
    },
    {
      "cell_type": "code",
      "execution_count": 1,
      "metadata": {
        "id": "dsBfLDnhx-2k"
      },
      "outputs": [
        {
          "name": "stdout",
          "output_type": "stream",
          "text": [
            "* Previous current working directory: /workspace/house-price-regression/jupyter_notebooks\n",
            "* Updated current working directory: /workspace/house-price-regression\n"
          ]
        }
      ],
      "source": [
        "import os\n",
        "\n",
        "# Get the current working directory (cwd)\n",
        "cwd = os.getcwd()\n",
        "print(f\"* Previous current working directory: {cwd}\")\n",
        "\n",
        "# Make the parent of the cwd the new cwd\n",
        "os.chdir(os.path.dirname(cwd))\n",
        "cwd = os.getcwd()\n",
        "print(f\"* Updated current working directory: {cwd}\")"
      ]
    },
    {
      "cell_type": "markdown",
      "metadata": {
        "id": "gUFuYskeybZL"
      },
      "source": [
        "---"
      ]
    },
    {
      "cell_type": "markdown",
      "metadata": {
        "id": "-mavJ8DibrcQ"
      },
      "source": [
        "# Fetch Data From Kaggle\n",
        "\n",
        "In order to fetch data from Kaggle using the Kaggle API, Kaggle needs to installed in the workspace. An access token can be obtained using instructions at the [Kaggle API repository](https://github.com/Kaggle/kaggle-api).\n",
        "\n",
        "> If a cloud-based development environment is being used (e.g. Gitpod), the `kaggle.json` credentials file which gets downloaded to your local machine when creating a key should be uploaded to the remote workspace.\n",
        "\n",
        "**NB** Your Kaggle API key is private and should not be shared."
      ]
    },
    {
      "cell_type": "code",
      "execution_count": 2,
      "metadata": {
        "id": "Xk7DU_ekbtX8"
      },
      "outputs": [
        {
          "name": "stdout",
          "output_type": "stream",
          "text": [
            "Requirement already satisfied: kaggle==1.5.12 in /workspace/.pip-modules/lib/python3.8/site-packages (1.5.12)\n",
            "Requirement already satisfied: requests in /home/gitpod/.pyenv/versions/3.8.12/lib/python3.8/site-packages (from kaggle==1.5.12) (2.26.0)\n",
            "Requirement already satisfied: python-dateutil in /home/gitpod/.pyenv/versions/3.8.12/lib/python3.8/site-packages (from kaggle==1.5.12) (2.8.2)\n",
            "Requirement already satisfied: tqdm in /home/gitpod/.pyenv/versions/3.8.12/lib/python3.8/site-packages (from kaggle==1.5.12) (4.62.2)\n",
            "Requirement already satisfied: six>=1.10 in /home/gitpod/.pyenv/versions/3.8.12/lib/python3.8/site-packages (from kaggle==1.5.12) (1.16.0)\n",
            "Requirement already satisfied: certifi in /home/gitpod/.pyenv/versions/3.8.12/lib/python3.8/site-packages (from kaggle==1.5.12) (2021.5.30)\n",
            "Requirement already satisfied: python-slugify in /workspace/.pip-modules/lib/python3.8/site-packages (from kaggle==1.5.12) (5.0.2)\n",
            "Requirement already satisfied: urllib3 in /home/gitpod/.pyenv/versions/3.8.12/lib/python3.8/site-packages (from kaggle==1.5.12) (1.26.6)\n",
            "Requirement already satisfied: text-unidecode>=1.3 in /workspace/.pip-modules/lib/python3.8/site-packages (from python-slugify->kaggle==1.5.12) (1.3)\n",
            "Requirement already satisfied: charset-normalizer~=2.0.0 in /home/gitpod/.pyenv/versions/3.8.12/lib/python3.8/site-packages (from requests->kaggle==1.5.12) (2.0.4)\n",
            "Requirement already satisfied: idna<4,>=2.5 in /home/gitpod/.pyenv/versions/3.8.12/lib/python3.8/site-packages (from requests->kaggle==1.5.12) (3.2)\n",
            "\u001b[33mWARNING: You are using pip version 21.2.4; however, version 21.3 is available.\n",
            "You should consider upgrading via the '/home/gitpod/.pyenv/versions/3.8.12/bin/python3 -m pip install --upgrade pip' command.\u001b[0m\n"
          ]
        }
      ],
      "source": [
        "# Install Kaggle\n",
        "! pip install kaggle==1.5.12"
      ]
    },
    {
      "cell_type": "code",
      "execution_count": 3,
      "metadata": {},
      "outputs": [],
      "source": [
        "# Set up token variable\n",
        "import os\n",
        "os.environ['KAGGLE_CONFIG_DIR'] = os.getcwd()\n",
        "\n",
        "# Set read/write permission for file owner only\n",
        "! chmod 600 kaggle.json"
      ]
    },
    {
      "cell_type": "markdown",
      "metadata": {},
      "source": [
        "Download the data to destination folder and unzip it."
      ]
    },
    {
      "cell_type": "code",
      "execution_count": 7,
      "metadata": {
        "id": "n3u49Wn7byHA"
      },
      "outputs": [
        {
          "name": "stdout",
          "output_type": "stream",
          "text": [
            "Downloading house-prices-advanced-regression-techniques.zip to inputs/datasets/raw\n",
            "  0%|                                                | 0.00/199k [00:00<?, ?B/s]\n",
            "100%|████████████████████████████████████████| 199k/199k [00:00<00:00, 70.8MB/s]\n",
            "Archive:  inputs/datasets/raw/house-prices-advanced-regression-techniques.zip\n",
            "  inflating: inputs/datasets/raw/data_description.txt  \n",
            "  inflating: inputs/datasets/raw/sample_submission.csv  \n",
            "  inflating: inputs/datasets/raw/test.csv  \n",
            "  inflating: inputs/datasets/raw/train.csv  \n"
          ]
        }
      ],
      "source": [
        "# Define data source path\n",
        "kaggle_dataset_path = \"house-prices-advanced-regression-techniques\"\n",
        "\n",
        "# Define destination folder\n",
        "destination_folder = \"inputs/datasets/raw\"\n",
        "\n",
        "#Download the data\n",
        "! kaggle competitions download -c {kaggle_dataset_path} -p {destination_folder}\n",
        "\n",
        "# Unzip downloaded file and remove the zip file\n",
        "! unzip {destination_folder}/*.zip -d {destination_folder} \\\n",
        "  && rm {destination_folder}/*.zip"
      ]
    },
    {
      "cell_type": "markdown",
      "metadata": {
        "id": "krjAk78Tbyhv"
      },
      "source": [
        "# Your second notebook section"
      ]
    },
    {
      "cell_type": "code",
      "execution_count": null,
      "metadata": {
        "id": "T0oBmdCWb0xf"
      },
      "outputs": [],
      "source": []
    },
    {
      "cell_type": "code",
      "execution_count": null,
      "metadata": {
        "id": "OnS7v_HVb1db"
      },
      "outputs": [],
      "source": []
    },
    {
      "cell_type": "markdown",
      "metadata": {
        "id": "257gMsNhiuM3"
      },
      "source": [
        "# **Push** generated/new files from this Session to GitHub repo"
      ]
    },
    {
      "cell_type": "markdown",
      "metadata": {
        "id": "FUla5863TKyk"
      },
      "source": [
        "* Git status"
      ]
    },
    {
      "cell_type": "code",
      "execution_count": null,
      "metadata": {
        "id": "NzjZgWV-TMOB"
      },
      "outputs": [],
      "source": [
        "! git status"
      ]
    },
    {
      "cell_type": "markdown",
      "metadata": {
        "id": "lH_xeleqiuM4"
      },
      "source": [
        "* Git commit"
      ]
    },
    {
      "cell_type": "code",
      "execution_count": null,
      "metadata": {
        "id": "VpFefbLXiuM4"
      },
      "outputs": [],
      "source": [
        "CommitMsg = \"update\"\n",
        "!git add .\n",
        "!git commit -m {CommitMsg}"
      ]
    },
    {
      "cell_type": "markdown",
      "metadata": {
        "id": "msFKrJ6fiuM5"
      },
      "source": [
        "* Git Push"
      ]
    },
    {
      "cell_type": "code",
      "execution_count": null,
      "metadata": {
        "id": "QZxYGf_yiuM5"
      },
      "outputs": [],
      "source": [
        "!git push origin main\n"
      ]
    },
    {
      "cell_type": "markdown",
      "metadata": {
        "id": "pXKlJFX0iuM5"
      },
      "source": [
        "---"
      ]
    }
  ],
  "metadata": {
    "colab": {
      "name": "Data Practitioner Jupyter Notebook.ipynb",
      "provenance": [],
      "toc_visible": true
    },
    "interpreter": {
      "hash": "8b8334dab9339717f727a1deaf837b322d7a41c20d15cc86be99a8e69ceec8ce"
    },
    "kernelspec": {
      "display_name": "Python 3.8.12 64-bit ('3.8.12': pyenv)",
      "name": "python3"
    },
    "language_info": {
      "codemirror_mode": {
        "name": "ipython",
        "version": 3
      },
      "file_extension": ".py",
      "mimetype": "text/x-python",
      "name": "python",
      "nbconvert_exporter": "python",
      "pygments_lexer": "ipython3",
      "version": "3.8.12"
    },
    "orig_nbformat": 2
  },
  "nbformat": 4,
  "nbformat_minor": 2
}

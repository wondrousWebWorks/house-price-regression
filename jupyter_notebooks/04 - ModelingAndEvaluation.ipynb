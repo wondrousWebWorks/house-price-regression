{
 "cells": [
  {
   "cell_type": "markdown",
   "metadata": {},
   "source": [
    "# Modeling and Evaluation"
   ]
  },
  {
   "cell_type": "markdown",
   "metadata": {},
   "source": [
    "## 1. Objectives\n",
    "\n",
    "- Train two regression models\n",
    "- Evaluate the performance of trained models\n",
    "- Improve their performance of possible"
   ]
  },
  {
   "cell_type": "markdown",
   "metadata": {},
   "source": [
    "## 2. Inputs\n",
    "\n",
    "- /workspace/house-price-regression/outputs/datasets/cleaned/TrainSetCleaned.csv\n",
    "- /workspace/house-price-regression/outputs/datasets/cleaned/TestSetCleaned.csv"
   ]
  },
  {
   "cell_type": "markdown",
   "metadata": {},
   "source": [
    "## 3. Outputs\n",
    "\n",
    "- /workspace/house-price-regression/outputs/models/regression/linear_regression.pkl\n",
    "- /workspace/house-price-regression/outputs/models/regression/random_forest_regressor.pkl"
   ]
  },
  {
   "cell_type": "markdown",
   "metadata": {},
   "source": [
    "## 4. Imports"
   ]
  },
  {
   "cell_type": "code",
   "execution_count": 1,
   "metadata": {},
   "outputs": [],
   "source": [
    "import pandas as pd"
   ]
  },
  {
   "cell_type": "markdown",
   "metadata": {},
   "source": [
    "## 5. Load Data\n",
    "\n",
    "We will load the cleaned data with selected features and without missing values."
   ]
  },
  {
   "cell_type": "code",
   "execution_count": 2,
   "metadata": {},
   "outputs": [
    {
     "name": "stdout",
     "output_type": "stream",
     "text": [
      "[*] Previous working directory: /workspace/house-price-regression/jupyter_notebooks\n",
      "[*] Updated current working directory: /workspace/house-price-regression\n"
     ]
    }
   ],
   "source": [
    "import os\n",
    "\n",
    "# Get the current working directory (cwd)\n",
    "cwd = os.getcwd()\n",
    "print(f\"[*] Previous working directory: {cwd}\")\n",
    "\n",
    "# Make the parent of the cwd the new cwd\n",
    "os.chdir(os.path.dirname(cwd))\n",
    "cwd = os.getcwd()\n",
    "print(f\"[*] Updated current working directory: {cwd}\")\n",
    "\n",
    "# Load the data\n",
    "df_train = pd.read_csv(\"outputs/datasets/cleaned/TrainSetCleaned.csv\")\n",
    "df_test = pd.read_csv(\"outputs/datasets/cleaned/TestSetCleaned.csv\")"
   ]
  },
  {
   "cell_type": "markdown",
   "metadata": {},
   "source": [
    "## 6. Modeling\n",
    "\n",
    "- Create Linear Regression model\n",
    "- Create Random Forest Regressor model"
   ]
  },
  {
   "cell_type": "markdown",
   "metadata": {},
   "source": [
    "### 6.1 Create Training and Validation Data\n",
    "\n",
    "In order to maximise accuracy, we'll split the training data into smaller data sets. The larger will be the new training data set, while the smaller will be used for validation."
   ]
  },
  {
   "cell_type": "code",
   "execution_count": 8,
   "metadata": {},
   "outputs": [],
   "source": [
    "from sklearn.model_selection import train_test_split\n",
    "\n",
    "X = df_train.drop(\"SalePrice\", axis=1)\n",
    "y = df_train[\"SalePrice\"]\n",
    "\n",
    "X_train, X_val, y_train, y_val = train_test_split(\n",
    "    X, y, test_size=0.2, random_state=42)"
   ]
  },
  {
   "cell_type": "code",
   "execution_count": 12,
   "metadata": {},
   "outputs": [
    {
     "name": "stdout",
     "output_type": "stream",
     "text": [
      "X_train length: 1168\n",
      "y_train length: 1168\n",
      "\n",
      "X_val length: 292\n",
      "y_val length: 292\n"
     ]
    }
   ],
   "source": [
    "#Verify lengths of created training and validation sets\n",
    "print(f\"X_train length: {len(X_train)}\\ny_train length: {len(y_train)}\\n\")\n",
    "print(f\"X_val length: {len(X_val)}\\ny_val length: {len(y_val)}\")"
   ]
  }
 ],
 "metadata": {
  "interpreter": {
   "hash": "8b8334dab9339717f727a1deaf837b322d7a41c20d15cc86be99a8e69ceec8ce"
  },
  "kernelspec": {
   "display_name": "Python 3.8.12 64-bit ('3.8.12': pyenv)",
   "name": "python3"
  },
  "language_info": {
   "codemirror_mode": {
    "name": "ipython",
    "version": 3
   },
   "file_extension": ".py",
   "mimetype": "text/x-python",
   "name": "python",
   "nbconvert_exporter": "python",
   "pygments_lexer": "ipython3",
   "version": "3.8.12"
  },
  "orig_nbformat": 4
 },
 "nbformat": 4,
 "nbformat_minor": 2
}

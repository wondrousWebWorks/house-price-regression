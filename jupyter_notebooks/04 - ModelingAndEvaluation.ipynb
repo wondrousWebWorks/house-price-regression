{
 "cells": [
  {
   "cell_type": "markdown",
   "metadata": {},
   "source": [
    "# Modeling and Evaluation"
   ]
  },
  {
   "cell_type": "markdown",
   "metadata": {},
   "source": [
    "## 1. Objectives\n",
    "\n",
    "- Train two regression models\n",
    "- Evaluate the performance of trained models\n",
    "- Improve their performance of possible"
   ]
  },
  {
   "cell_type": "markdown",
   "metadata": {},
   "source": [
    "## 2. Inputs\n",
    "\n",
    "- /workspace/house-price-regression/outputs/datasets/cleaned/TrainSetCleaned.csv\n",
    "- /workspace/house-price-regression/outputs/datasets/cleaned/TestSetCleaned.csv"
   ]
  },
  {
   "cell_type": "markdown",
   "metadata": {},
   "source": [
    "## 3. Outputs\n",
    "\n",
    "- /workspace/house-price-regression/outputs/models/regression/random_forest_regressor.pkl\n",
    "- /workspace/house-price-regression/outputs/models/regression/linear_regression.pkl"
   ]
  },
  {
   "cell_type": "markdown",
   "metadata": {},
   "source": [
    "## 4. Imports"
   ]
  },
  {
   "cell_type": "code",
   "execution_count": 1,
   "metadata": {},
   "outputs": [],
   "source": [
    "import pandas as pd\n",
    "import numpy as np"
   ]
  },
  {
   "cell_type": "markdown",
   "metadata": {},
   "source": [
    "## 5. Load Data\n",
    "\n",
    "We will load the cleaned data with selected features and without missing values."
   ]
  },
  {
   "cell_type": "code",
   "execution_count": 2,
   "metadata": {},
   "outputs": [
    {
     "name": "stdout",
     "output_type": "stream",
     "text": [
      "[*] Previous working directory: /workspace/house-price-regression/jupyter_notebooks\n",
      "[*] Updated current working directory: /workspace/house-price-regression\n"
     ]
    }
   ],
   "source": [
    "import os\n",
    "\n",
    "# Get the current working directory (cwd)\n",
    "cwd = os.getcwd()\n",
    "print(f\"[*] Previous working directory: {cwd}\")\n",
    "\n",
    "# Make the parent of the cwd the new cwd\n",
    "os.chdir(os.path.dirname(cwd))\n",
    "cwd = os.getcwd()\n",
    "print(f\"[*] Updated current working directory: {cwd}\")\n",
    "\n",
    "# Load the data\n",
    "df_train = pd.read_csv(\"outputs/datasets/cleaned/TrainSetCleaned.csv\")\n",
    "df_test = pd.read_csv(\"outputs/datasets/cleaned/TestSetCleaned.csv\")"
   ]
  },
  {
   "cell_type": "markdown",
   "metadata": {},
   "source": [
    "## 6. Modeling\n",
    "\n",
    "- Create Random Forest Regressor model\n",
    "- Create Linear Regression model"
   ]
  },
  {
   "cell_type": "markdown",
   "metadata": {},
   "source": [
    "### 6.1 Create Training and Validation Data\n",
    "\n",
    "In order to maximise accuracy, we'll split the training data into smaller data sets. The larger will be the new training data set, while the smaller will be used for validation.\n",
    "\n",
    "The CSV file provided for testing purposes contains no labels, so it cannot be used for this purpose. We'll focus on the training data set instead and split that into **training**, **validation** and **test** sets."
   ]
  },
  {
   "cell_type": "code",
   "execution_count": 3,
   "metadata": {},
   "outputs": [],
   "source": [
    "from sklearn.model_selection import train_test_split\n",
    "\n",
    "X = df_train.drop(\"SalePrice\", axis=1)\n",
    "y = df_train[\"SalePrice\"]\n",
    "\n",
    "X_train, X_val_and_test, y_train, y_val_and_test = train_test_split(\n",
    "    X, y, test_size=0.3, random_state=42)\n",
    "\n",
    "X_val, X_test, y_val, y_test = train_test_split(\n",
    "    X_val_and_test, y_val_and_test, test_size=0.5, random_state=42)"
   ]
  },
  {
   "cell_type": "code",
   "execution_count": 4,
   "metadata": {},
   "outputs": [
    {
     "name": "stdout",
     "output_type": "stream",
     "text": [
      "X_train length: 1022\n",
      "y_train length: 1022\n",
      "\n",
      "X_val length: 219\n",
      "y_val length: 219\n",
      "\n",
      "X_test length: 219\n",
      "y_test length: 219\n"
     ]
    }
   ],
   "source": [
    "#Verify lengths of created training and validation sets\n",
    "print(f\"X_train length: {len(X_train)}\\ny_train length: {len(y_train)}\\n\")\n",
    "print(f\"X_val length: {len(X_val)}\\ny_val length: {len(y_val)}\\n\")\n",
    "print(f\"X_test length: {len(X_test)}\\ny_test length: {len(y_test)}\")"
   ]
  },
  {
   "cell_type": "code",
   "execution_count": 5,
   "metadata": {},
   "outputs": [
    {
     "data": {
      "text/plain": [
       "1418    124000\n",
       "44      141000\n",
       "588     143000\n",
       "1048    115000\n",
       "439     110000\n",
       "         ...  \n",
       "1094    129000\n",
       "374     219500\n",
       "411     145000\n",
       "1134    169000\n",
       "292     131000\n",
       "Name: SalePrice, Length: 219, dtype: int64"
      ]
     },
     "execution_count": 5,
     "metadata": {},
     "output_type": "execute_result"
    }
   ],
   "source": [
    "y_test"
   ]
  },
  {
   "cell_type": "markdown",
   "metadata": {},
   "source": [
    "### 6.2 Creating an evaluation function\n",
    "\n",
    "The metrics for evaluating regression models are:\n",
    "\n",
    "- Mean Absolute Error (MAE)\n",
    "- Root Mean Square Log Error (RMSLE)\n",
    "- R squared (R^2)\n",
    "\n",
    "We'll create a function to evaluate our two models."
   ]
  },
  {
   "cell_type": "code",
   "execution_count": 27,
   "metadata": {},
   "outputs": [],
   "source": [
    "from sklearn.metrics import mean_squared_log_error, mean_absolute_error\n",
    "\n",
    "# Create function to output tne rmsle as sklearn doesn't have such an in-built function\n",
    "def rmsle(y_test, y_predictions):\n",
    "    return np.sqrt(mean_squared_log_error(y_test, y_predictions))\n",
    "\n",
    "# Function for model evaluation\n",
    "def show_scores(model):\n",
    "    train_predictions = model.predict(X_train)\n",
    "    val_predictions = model.predict(X_val)\n",
    "    scores = {\"Training MAE\": mean_absolute_error(y_train, train_predictions),\n",
    "              \"Validation MAE\": mean_absolute_error(y_val, val_predictions),\n",
    "              \"Training RMSLE\": rmsle(y_train, train_predictions),\n",
    "              \"Validation RMSLE\": rmsle(y_val, val_predictions),\n",
    "              \"Training R^2\": model.score(X_train, y_train),\n",
    "              \"Validation R^2\": model.score(X_val, y_val)}\n",
    "    return scores"
   ]
  },
  {
   "cell_type": "markdown",
   "metadata": {},
   "source": [
    "### 6.3 Random Forest Regressor Model"
   ]
  },
  {
   "cell_type": "code",
   "execution_count": 7,
   "metadata": {},
   "outputs": [],
   "source": [
    "from sklearn.ensemble import RandomForestRegressor\n",
    "\n",
    "# Create instance of RandomForestRegressor model\n",
    "rf_model = RandomForestRegressor(n_jobs=-1)"
   ]
  },
  {
   "cell_type": "code",
   "execution_count": 8,
   "metadata": {},
   "outputs": [
    {
     "data": {
      "text/plain": [
       "RandomForestRegressor(n_jobs=-1)"
      ]
     },
     "execution_count": 8,
     "metadata": {},
     "output_type": "execute_result"
    }
   ],
   "source": [
    "# Fit the model\n",
    "rf_model.fit(X_train, y_train)"
   ]
  },
  {
   "cell_type": "code",
   "execution_count": 9,
   "metadata": {},
   "outputs": [
    {
     "data": {
      "text/plain": [
       "{'Training MAE': 7800.457051579535,\n",
       " 'Validation MAE': 18185.88323331159,\n",
       " 'Training RMSLE': 0.0670654624158919,\n",
       " 'Validation RMSLE': 0.16430383379024108,\n",
       " 'Training R^2': 0.9742834327217318,\n",
       " 'Validation R^2': 0.8857920515893536}"
      ]
     },
     "execution_count": 9,
     "metadata": {},
     "output_type": "execute_result"
    }
   ],
   "source": [
    "# Show scores\n",
    "show_scores(rf_model)"
   ]
  },
  {
   "cell_type": "markdown",
   "metadata": {},
   "source": [
    "#### 6.3.1 Hyperparameter tuning with RandomizedSearchCV\n",
    "\n",
    "Use randomised search with cross validation to find the best parameters for the model."
   ]
  },
  {
   "cell_type": "code",
   "execution_count": 10,
   "metadata": {},
   "outputs": [
    {
     "name": "stdout",
     "output_type": "stream",
     "text": [
      "Fitting 5 folds for each of 100 candidates, totalling 500 fits\n"
     ]
    },
    {
     "data": {
      "text/plain": [
       "RandomizedSearchCV(cv=5, estimator=RandomForestRegressor(), n_iter=100,\n",
       "                   param_distributions={'max_depth': [None, 3, 5, 10],\n",
       "                                        'max_features': [0.5, 1, 'sqrt',\n",
       "                                                         'auto'],\n",
       "                                        'max_samples': [800],\n",
       "                                        'min_samples_leaf': array([ 1,  3,  5,  7,  9, 11, 13, 15, 17, 19]),\n",
       "                                        'min_samples_split': array([ 2,  4,  6,  8, 10, 12, 14, 16, 18]),\n",
       "                                        'n_estimators': array([10, 20, 30, 40, 50, 60, 70, 80, 90])},\n",
       "                   verbose=True)"
      ]
     },
     "execution_count": 10,
     "metadata": {},
     "output_type": "execute_result"
    }
   ],
   "source": [
    "from sklearn.model_selection import RandomizedSearchCV\n",
    "\n",
    "# RandomForestClassifier hyperparameters for testing\n",
    "rf_grid = {\"n_estimators\": np.arange(10, 100, 10),\n",
    "           \"max_depth\": [None, 3, 5, 10],\n",
    "           \"min_samples_split\": np.arange(2, 20, 2),\n",
    "           \"min_samples_leaf\": np.arange(1, 20, 2),\n",
    "           \"max_features\": [0.5, 1, \"sqrt\", \"auto\"],\n",
    "           \"max_samples\": [800]}\n",
    "\n",
    "rscv_model = RandomizedSearchCV(RandomForestRegressor(),\n",
    "                              param_distributions=rf_grid,\n",
    "                              n_iter=100,\n",
    "                              cv=5,\n",
    "                              verbose=True)\n",
    "\n",
    "rscv_model.fit(X_train, y_train)"
   ]
  },
  {
   "cell_type": "code",
   "execution_count": 11,
   "metadata": {},
   "outputs": [
    {
     "data": {
      "text/plain": [
       "{'n_estimators': 40,\n",
       " 'min_samples_split': 4,\n",
       " 'min_samples_leaf': 7,\n",
       " 'max_samples': 800,\n",
       " 'max_features': 0.5,\n",
       " 'max_depth': 10}"
      ]
     },
     "execution_count": 11,
     "metadata": {},
     "output_type": "execute_result"
    }
   ],
   "source": [
    "# Show the best parameters for the model\n",
    "rscv_model.best_params_"
   ]
  },
  {
   "cell_type": "code",
   "execution_count": 12,
   "metadata": {},
   "outputs": [
    {
     "data": {
      "text/plain": [
       "{'Training MAE': 17263.04257894391,\n",
       " 'Validation MAE': 18746.42976399382,\n",
       " 'Training RMSLE': 0.14337602722783224,\n",
       " 'Validation RMSLE': 0.16990372323721753,\n",
       " 'Training R^2': 0.8607503083609582,\n",
       " 'Validation R^2': 0.8868594247224642}"
      ]
     },
     "execution_count": 12,
     "metadata": {},
     "output_type": "execute_result"
    }
   ],
   "source": [
    "# Evaluate the optimised model\n",
    "show_scores(rscv_model)"
   ]
  },
  {
   "cell_type": "markdown",
   "metadata": {},
   "source": [
    "Training a model with optimised parameters."
   ]
  },
  {
   "cell_type": "code",
   "execution_count": 13,
   "metadata": {},
   "outputs": [],
   "source": [
    "rf_model_ideal = RandomForestRegressor(n_jobs=-1,\n",
    "                                       n_estimators=40,\n",
    "                                       min_samples_split=4,\n",
    "                                       min_samples_leaf=7,\n",
    "                                       max_samples=800,\n",
    "                                       max_features=0.5,\n",
    "                                       max_depth=10)"
   ]
  },
  {
   "cell_type": "code",
   "execution_count": 14,
   "metadata": {},
   "outputs": [
    {
     "data": {
      "text/plain": [
       "RandomForestRegressor(max_depth=10, max_features=0.5, max_samples=800,\n",
       "                      min_samples_leaf=7, min_samples_split=4, n_estimators=40,\n",
       "                      n_jobs=-1)"
      ]
     },
     "execution_count": 14,
     "metadata": {},
     "output_type": "execute_result"
    }
   ],
   "source": [
    "# Fit optimised model\n",
    "rf_model_ideal.fit(X_train, y_train)"
   ]
  },
  {
   "cell_type": "code",
   "execution_count": 15,
   "metadata": {},
   "outputs": [
    {
     "data": {
      "text/html": [
       "<div>\n",
       "<style scoped>\n",
       "    .dataframe tbody tr th:only-of-type {\n",
       "        vertical-align: middle;\n",
       "    }\n",
       "\n",
       "    .dataframe tbody tr th {\n",
       "        vertical-align: top;\n",
       "    }\n",
       "\n",
       "    .dataframe thead th {\n",
       "        text-align: right;\n",
       "    }\n",
       "</style>\n",
       "<table border=\"1\" class=\"dataframe\">\n",
       "  <thead>\n",
       "    <tr style=\"text-align: right;\">\n",
       "      <th></th>\n",
       "      <th>Predicted</th>\n",
       "      <th>Actual</th>\n",
       "    </tr>\n",
       "  </thead>\n",
       "  <tbody>\n",
       "    <tr>\n",
       "      <th>0</th>\n",
       "      <td>142225.397126</td>\n",
       "      <td>124000</td>\n",
       "    </tr>\n",
       "    <tr>\n",
       "      <th>1</th>\n",
       "      <td>138423.643063</td>\n",
       "      <td>141000</td>\n",
       "    </tr>\n",
       "    <tr>\n",
       "      <th>2</th>\n",
       "      <td>165914.185971</td>\n",
       "      <td>143000</td>\n",
       "    </tr>\n",
       "    <tr>\n",
       "      <th>3</th>\n",
       "      <td>171922.171642</td>\n",
       "      <td>115000</td>\n",
       "    </tr>\n",
       "    <tr>\n",
       "      <th>4</th>\n",
       "      <td>130394.004970</td>\n",
       "      <td>110000</td>\n",
       "    </tr>\n",
       "  </tbody>\n",
       "</table>\n",
       "</div>"
      ],
      "text/plain": [
       "       Predicted  Actual\n",
       "0  142225.397126  124000\n",
       "1  138423.643063  141000\n",
       "2  165914.185971  143000\n",
       "3  171922.171642  115000\n",
       "4  130394.004970  110000"
      ]
     },
     "execution_count": 15,
     "metadata": {},
     "output_type": "execute_result"
    }
   ],
   "source": [
    "# Predict values\n",
    "rf_predictions = rf_model_ideal.predict(X_test)\n",
    "rf_predictions[:50]\n",
    "\n",
    "# Compare predictions to actual values\n",
    "rf_predictions_comp = pd.DataFrame()\n",
    "rf_predictions_comp['Predicted'] = rf_predictions\n",
    "y_test_array = y_test.to_numpy()\n",
    "rf_predictions_comp['Actual'] = y_test_array\n",
    "\n",
    "rf_predictions_comp.head()"
   ]
  },
  {
   "cell_type": "markdown",
   "metadata": {},
   "source": [
    "## 7. Export trained model a pkl file"
   ]
  },
  {
   "cell_type": "code",
   "execution_count": 37,
   "metadata": {},
   "outputs": [],
   "source": [
    "# Create outputs/models folder\n",
    "import os\n",
    "try:\n",
    "  os.makedirs(name='outputs/models')\n",
    "except Exception as e:\n",
    "  print(e)"
   ]
  },
  {
   "cell_type": "code",
   "execution_count": 38,
   "metadata": {},
   "outputs": [],
   "source": [
    "import pickle\n",
    "pickle.dump(rf_model_ideal, open('outputs/models/rf_model.pkl', 'wb'))"
   ]
  },
  {
   "cell_type": "markdown",
   "metadata": {},
   "source": []
  }
 ],
 "metadata": {
  "interpreter": {
   "hash": "8b8334dab9339717f727a1deaf837b322d7a41c20d15cc86be99a8e69ceec8ce"
  },
  "kernelspec": {
   "display_name": "Python 3.8.12 64-bit ('3.8.12': pyenv)",
   "name": "python3"
  },
  "language_info": {
   "codemirror_mode": {
    "name": "ipython",
    "version": 3
   },
   "file_extension": ".py",
   "mimetype": "text/x-python",
   "name": "python",
   "nbconvert_exporter": "python",
   "pygments_lexer": "ipython3",
   "version": "3.8.12"
  },
  "orig_nbformat": 4
 },
 "nbformat": 4,
 "nbformat_minor": 2
}
